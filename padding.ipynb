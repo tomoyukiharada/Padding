{
  "nbformat": 4,
  "nbformat_minor": 0,
  "metadata": {
    "colab": {
      "provenance": []
    },
    "kernelspec": {
      "name": "python3",
      "display_name": "Python 3"
    },
    "language_info": {
      "name": "python"
    }
  },
  "cells": [
    {
      "cell_type": "markdown",
      "source": [
        "## pudding_publish: 以下のセルを順番に実行\n",
        "前提: 余白を付けたい画像がGoogle Driveにアップロード済であること"
      ],
      "metadata": {
        "id": "6CvPPEt40-tf"
      }
    },
    {
      "cell_type": "markdown",
      "source": [
        "○事前準備"
      ],
      "metadata": {
        "id": "SffWmB5HkQTr"
      }
    },
    {
      "cell_type": "code",
      "source": [
        "import os\n",
        "# Google Driveをマウント（画像の置き場所によっては不要）\n",
        "from google.colab import drive\n",
        "drive.mount('/content/drive/')"
      ],
      "metadata": {
        "id": "evRLC7c51guj",
        "colab": {
          "base_uri": "https://localhost:8080/"
        },
        "outputId": "8d3c89bc-4b0d-45d5-a994-955eee2e5c37"
      },
      "execution_count": null,
      "outputs": [
        {
          "output_type": "stream",
          "name": "stdout",
          "text": [
            "Mounted at /content/drive/\n"
          ]
        }
      ]
    },
    {
      "cell_type": "code",
      "source": [
        "# Pillowが無ければ実行\n",
        "# pip install Pillow"
      ],
      "metadata": {
        "id": "fy2lIvWO16Ks"
      },
      "execution_count": null,
      "outputs": []
    },
    {
      "cell_type": "code",
      "source": [
        "# import Image from Pillow\n",
        "from PIL import Image"
      ],
      "metadata": {
        "id": "VO4uJp_62BUd"
      },
      "execution_count": null,
      "outputs": []
    },
    {
      "cell_type": "markdown",
      "source": [
        "○画像処理"
      ],
      "metadata": {
        "id": "jMkPVgEokTIF"
      }
    },
    {
      "cell_type": "code",
      "source": [
        "# variables\n",
        "imgs_src_name = []\n",
        "img_dir_path = \"\"\n",
        "setDefault = True\n",
        "pixels = 1080\n",
        "BLACK = (0, 0, 0)\n",
        "WHITE = (255, 255, 255)\n",
        "background_color = WHITE\n",
        "margin_omnidirectional = False\n",
        "margin_percent = 10\n",
        "suffix = \"_add_margin.jpg\"\n",
        "# function\n",
        "def expand2squeare(i, pixels, background_color, margin_omnidirectional, margin_percent):\n",
        "  #画像の読み込み\n",
        "  path_src = img_dir_path + \"/\" + imgs_src_name[i]\n",
        "  img_src = Image.open(path_src)\n",
        "  width, height = img_src.size\n",
        "  mode = img_src.mode\n",
        "  # margin\n",
        "  if not margin_omnidirectional:\n",
        "    if (width == height):\n",
        "      result = img_src\n",
        "    elif (width > height):\n",
        "      result = Image.new(mode, (width, width), background_color)\n",
        "      result.paste(img_src, (0, (width - height) // 2))\n",
        "    else:\n",
        "      result = Image.new(mode, (height, height), background_color)\n",
        "      result.paste(img_src, ((height - width) // 2, 0))\n",
        "  else:\n",
        "    # 全周余白の場合\n",
        "    if (width >= height):\n",
        "      square_pixel = int(width / (1 - (margin_percent / 100)))\n",
        "    else:\n",
        "      square_pixel = int(height / (1 - (margin_percent / 100)))\n",
        "    result = Image.new(mode, (square_pixel, square_pixel), background_color)\n",
        "    result.paste(img_src, ((square_pixel - width) // 2, (square_pixel - height) // 2))\n",
        "  # save\n",
        "  result.resize((pixels, pixels))\n",
        "  path_new = path_src.removesuffix('.jpg') + suffix\n",
        "  result.save(path_new, quality=100) \n",
        "  return\n",
        "# 画像名の読み込み\n",
        "print('余白を付けたい画像のファイル名を入力してください。※カンマ区切りで複数入力可(例: \"01.jpg, 02.jpg\")')\n",
        "imgs_src_name = [x.strip() for x in input().split(',')]\n",
        "# 画像フォルダのPATH\n",
        "print('画像フォルダのパスを入力してください。※\"/content/drive/MyDrive\"でマイドライブ直下になる(例: \"/content/drive/MyDrive/data/images\")')\n",
        "img_dir_path = input()\n",
        "# Default?\n",
        "print(\"デフォルトの設定「出力画像サイズ1080pixel四方・白背景・長辺余白なし」で進めますか？ 'y' or 'n'\")\n",
        "str_input = input()\n",
        "if (str_input == \"y\"):\n",
        "  setDefault = True\n",
        "elif (str_input == \"n\"):\n",
        "  setDefault = False\n",
        "# setParams\n",
        "if not setDefault:\n",
        "  # pixels\n",
        "  print(\"出力する画像サイズ(pixel)を入力してください(例: '1080')\")\n",
        "  pixels = int(input())\n",
        "  # background_color\n",
        "  print(\"背景色を選んでください 'w' or 'b'\")\n",
        "  str_input = input()\n",
        "  if (str_input == \"w\"):\n",
        "    background_color = WHITE\n",
        "  elif (str_input == \"b\"):\n",
        "    background_color = BLACK\n",
        "  # margin_omnidirectional\n",
        "  print(\"長辺にも余白を付けますか？ 'y' or 'n'\")\n",
        "  str_input = input()\n",
        "  if (str_input == \"y\"):\n",
        "    margin_omnidirectional = True\n",
        "  elif (str_input == \"n\"):\n",
        "    margin_omnidirectional = False\n",
        "  # margin_percent\n",
        "  print(\"長辺の余白幅(%)を設定してください(例: '10')\")\n",
        "  margin_percent = int(input())\n",
        "#loop\n",
        "for i in range(len(imgs_src_name)):\n",
        "  expand2squeare(i, pixels, background_color, margin_omnidirectional, margin_percent)\n",
        "#terminate\n",
        "print('余白付きの画像(元画像名' + suffix +')が生成されました！元画像が入っているフォルダを確認してください')\n"
      ],
      "metadata": {
        "colab": {
          "base_uri": "https://localhost:8080/"
        },
        "id": "o_2v-WRiF3Mp",
        "outputId": "c518e782-d216-43da-8251-ab2c36285eb8"
      },
      "execution_count": null,
      "outputs": [
        {
          "output_type": "stream",
          "name": "stdout",
          "text": [
            "余白を付けたい画像のファイル名を入力してください。※カンマ区切りで複数入力可(例: \"01.jpg, 02.jpg\")\n",
            "20221104_180925.jpg, 20221104_180925_add_margin.jpg\n",
            "画像フォルダのパスを入力してください。※\"/content/drive/MyDrive\"でマイドライブ直下になる(例: \"/content/drive/MyDrive/data/images\")\n",
            "/content/drive/MyDrive/Colab Notebooks\n",
            "デフォルトの設定「出力画像サイズ1080pixel四方・白背景・長辺余白なし」で進めますか？ 'y' or 'n'\n",
            "n\n",
            "出力する画像サイズ(pixel)を入力してください(例: '1080')\n",
            "1080\n",
            "背景色を選んでください 'w' or 'b'\n",
            "w\n",
            "長辺にも余白を付けますか？ 'y' or 'n'\n",
            "n\n",
            "長辺の余白幅(%)を設定してください(例: '10')\n",
            "10\n",
            "余白付きの画像(元画像名_add_margin.jpg)が生成されました！元画像が入っているフォルダを確認してください\n"
          ]
        }
      ]
    }
  ]
}